{
 "cells": [
  {
   "cell_type": "markdown",
   "source": [
    "# Выполнил: Филоненко Никита Дмитриевич\n",
    "\n",
    "-----"
   ],
   "metadata": {
    "collapsed": false
   },
   "id": "75417353a8c4c55e"
  },
  {
   "cell_type": "code",
   "execution_count": 2,
   "id": "initial_id",
   "metadata": {
    "collapsed": true,
    "ExecuteTime": {
     "end_time": "2025-01-05T17:50:22.785604200Z",
     "start_time": "2025-01-05T17:50:22.214522800Z"
    }
   },
   "outputs": [],
   "source": [
    "import pandas as pd\n",
    "import numpy as np\n",
    "import matplotlib.pyplot as plt\n",
    "from multiprocessing import Pool\n",
    "import time"
   ]
  },
  {
   "cell_type": "code",
   "outputs": [
    {
     "data": {
      "text/plain": "              city   timestamp  temperature  season\n0         New York  2010-01-01     4.245995  winter\n1         New York  2010-01-02     5.771668  winter\n2         New York  2010-01-03     6.595212  winter\n3         New York  2010-01-04     4.542599  winter\n4         New York  2010-01-05     2.713280  winter\n...            ...         ...          ...     ...\n54745  Mexico City  2019-12-25     9.254573  winter\n54746  Mexico City  2019-12-26    13.840518  winter\n54747  Mexico City  2019-12-27     1.107081  winter\n54748  Mexico City  2019-12-28    16.073719  winter\n54749  Mexico City  2019-12-29     7.129414  winter\n\n[54750 rows x 4 columns]",
      "text/html": "<div>\n<style scoped>\n    .dataframe tbody tr th:only-of-type {\n        vertical-align: middle;\n    }\n\n    .dataframe tbody tr th {\n        vertical-align: top;\n    }\n\n    .dataframe thead th {\n        text-align: right;\n    }\n</style>\n<table border=\"1\" class=\"dataframe\">\n  <thead>\n    <tr style=\"text-align: right;\">\n      <th></th>\n      <th>city</th>\n      <th>timestamp</th>\n      <th>temperature</th>\n      <th>season</th>\n    </tr>\n  </thead>\n  <tbody>\n    <tr>\n      <th>0</th>\n      <td>New York</td>\n      <td>2010-01-01</td>\n      <td>4.245995</td>\n      <td>winter</td>\n    </tr>\n    <tr>\n      <th>1</th>\n      <td>New York</td>\n      <td>2010-01-02</td>\n      <td>5.771668</td>\n      <td>winter</td>\n    </tr>\n    <tr>\n      <th>2</th>\n      <td>New York</td>\n      <td>2010-01-03</td>\n      <td>6.595212</td>\n      <td>winter</td>\n    </tr>\n    <tr>\n      <th>3</th>\n      <td>New York</td>\n      <td>2010-01-04</td>\n      <td>4.542599</td>\n      <td>winter</td>\n    </tr>\n    <tr>\n      <th>4</th>\n      <td>New York</td>\n      <td>2010-01-05</td>\n      <td>2.713280</td>\n      <td>winter</td>\n    </tr>\n    <tr>\n      <th>...</th>\n      <td>...</td>\n      <td>...</td>\n      <td>...</td>\n      <td>...</td>\n    </tr>\n    <tr>\n      <th>54745</th>\n      <td>Mexico City</td>\n      <td>2019-12-25</td>\n      <td>9.254573</td>\n      <td>winter</td>\n    </tr>\n    <tr>\n      <th>54746</th>\n      <td>Mexico City</td>\n      <td>2019-12-26</td>\n      <td>13.840518</td>\n      <td>winter</td>\n    </tr>\n    <tr>\n      <th>54747</th>\n      <td>Mexico City</td>\n      <td>2019-12-27</td>\n      <td>1.107081</td>\n      <td>winter</td>\n    </tr>\n    <tr>\n      <th>54748</th>\n      <td>Mexico City</td>\n      <td>2019-12-28</td>\n      <td>16.073719</td>\n      <td>winter</td>\n    </tr>\n    <tr>\n      <th>54749</th>\n      <td>Mexico City</td>\n      <td>2019-12-29</td>\n      <td>7.129414</td>\n      <td>winter</td>\n    </tr>\n  </tbody>\n</table>\n<p>54750 rows × 4 columns</p>\n</div>"
     },
     "execution_count": 3,
     "metadata": {},
     "output_type": "execute_result"
    }
   ],
   "source": [
    "df = pd.read_csv(\"../../data/temperature_data.csv\")\n",
    "\n",
    "df"
   ],
   "metadata": {
    "collapsed": false,
    "ExecuteTime": {
     "end_time": "2025-01-05T17:50:22.881539700Z",
     "start_time": "2025-01-05T17:50:22.787606100Z"
    }
   },
   "id": "62b4e45a99232077",
   "execution_count": 3
  },
  {
   "cell_type": "markdown",
   "source": [
    "- приведем timestamp к нужному dtype"
   ],
   "metadata": {
    "collapsed": false
   },
   "id": "db692861da12ca5d"
  },
  {
   "cell_type": "code",
   "outputs": [
    {
     "data": {
      "text/plain": "       city  timestamp  temperature  season\n0  New York 2010-01-01     4.245995  winter\n1  New York 2010-01-02     5.771668  winter\n2  New York 2010-01-03     6.595212  winter\n3  New York 2010-01-04     4.542599  winter\n4  New York 2010-01-05     2.713280  winter",
      "text/html": "<div>\n<style scoped>\n    .dataframe tbody tr th:only-of-type {\n        vertical-align: middle;\n    }\n\n    .dataframe tbody tr th {\n        vertical-align: top;\n    }\n\n    .dataframe thead th {\n        text-align: right;\n    }\n</style>\n<table border=\"1\" class=\"dataframe\">\n  <thead>\n    <tr style=\"text-align: right;\">\n      <th></th>\n      <th>city</th>\n      <th>timestamp</th>\n      <th>temperature</th>\n      <th>season</th>\n    </tr>\n  </thead>\n  <tbody>\n    <tr>\n      <th>0</th>\n      <td>New York</td>\n      <td>2010-01-01</td>\n      <td>4.245995</td>\n      <td>winter</td>\n    </tr>\n    <tr>\n      <th>1</th>\n      <td>New York</td>\n      <td>2010-01-02</td>\n      <td>5.771668</td>\n      <td>winter</td>\n    </tr>\n    <tr>\n      <th>2</th>\n      <td>New York</td>\n      <td>2010-01-03</td>\n      <td>6.595212</td>\n      <td>winter</td>\n    </tr>\n    <tr>\n      <th>3</th>\n      <td>New York</td>\n      <td>2010-01-04</td>\n      <td>4.542599</td>\n      <td>winter</td>\n    </tr>\n    <tr>\n      <th>4</th>\n      <td>New York</td>\n      <td>2010-01-05</td>\n      <td>2.713280</td>\n      <td>winter</td>\n    </tr>\n  </tbody>\n</table>\n</div>"
     },
     "execution_count": 4,
     "metadata": {},
     "output_type": "execute_result"
    }
   ],
   "source": [
    "df['timestamp'] = pd.to_datetime(df['timestamp'])\n",
    "df.head()"
   ],
   "metadata": {
    "collapsed": false,
    "ExecuteTime": {
     "end_time": "2025-01-05T17:50:58.778153100Z",
     "start_time": "2025-01-05T17:50:58.755078400Z"
    }
   },
   "id": "ca2869a833184bd3",
   "execution_count": 4
  },
  {
   "cell_type": "markdown",
   "source": [
    "- вычисление скользящего среднего"
   ],
   "metadata": {
    "collapsed": false
   },
   "id": "67c1b61ef7d891ed"
  },
  {
   "cell_type": "code",
   "outputs": [],
   "source": [
    "def calculate_moving_avg(city_data):\n",
    "    city_data['moving_avg'] = city_data['temperature'].rolling(window=30, min_periods=1).mean()\n",
    "    return city_data"
   ],
   "metadata": {
    "collapsed": false,
    "ExecuteTime": {
     "end_time": "2025-01-05T17:52:16.815844600Z",
     "start_time": "2025-01-05T17:52:16.808831900Z"
    }
   },
   "id": "27c5529eba262da0",
   "execution_count": 5
  },
  {
   "cell_type": "code",
   "outputs": [
    {
     "data": {
      "text/plain": "               timestamp  temperature  season  moving_avg\ncity                                                     \nBeijing 25550 2010-01-01    -5.032266  winter   -5.032266\n        25551 2010-01-02    -3.994927  winter   -4.513596\n        25552 2010-01-03    -7.027065  winter   -5.351419\n        25553 2010-01-04    -8.892995  winter   -6.236813\n        25554 2010-01-05    -0.367867  winter   -5.063024\n...                  ...          ...     ...         ...\nTokyo   14595 2019-12-25     7.455974  winter    8.131442\n        14596 2019-12-26     3.877173  winter    7.230694\n        14597 2019-12-27     9.669779  winter    7.303646\n        14598 2019-12-28    -1.412218  winter    7.147971\n        14599 2019-12-29    10.259514  winter    6.878293\n\n[54750 rows x 4 columns]",
      "text/html": "<div>\n<style scoped>\n    .dataframe tbody tr th:only-of-type {\n        vertical-align: middle;\n    }\n\n    .dataframe tbody tr th {\n        vertical-align: top;\n    }\n\n    .dataframe thead th {\n        text-align: right;\n    }\n</style>\n<table border=\"1\" class=\"dataframe\">\n  <thead>\n    <tr style=\"text-align: right;\">\n      <th></th>\n      <th></th>\n      <th>timestamp</th>\n      <th>temperature</th>\n      <th>season</th>\n      <th>moving_avg</th>\n    </tr>\n    <tr>\n      <th>city</th>\n      <th></th>\n      <th></th>\n      <th></th>\n      <th></th>\n      <th></th>\n    </tr>\n  </thead>\n  <tbody>\n    <tr>\n      <th rowspan=\"5\" valign=\"top\">Beijing</th>\n      <th>25550</th>\n      <td>2010-01-01</td>\n      <td>-5.032266</td>\n      <td>winter</td>\n      <td>-5.032266</td>\n    </tr>\n    <tr>\n      <th>25551</th>\n      <td>2010-01-02</td>\n      <td>-3.994927</td>\n      <td>winter</td>\n      <td>-4.513596</td>\n    </tr>\n    <tr>\n      <th>25552</th>\n      <td>2010-01-03</td>\n      <td>-7.027065</td>\n      <td>winter</td>\n      <td>-5.351419</td>\n    </tr>\n    <tr>\n      <th>25553</th>\n      <td>2010-01-04</td>\n      <td>-8.892995</td>\n      <td>winter</td>\n      <td>-6.236813</td>\n    </tr>\n    <tr>\n      <th>25554</th>\n      <td>2010-01-05</td>\n      <td>-0.367867</td>\n      <td>winter</td>\n      <td>-5.063024</td>\n    </tr>\n    <tr>\n      <th>...</th>\n      <th>...</th>\n      <td>...</td>\n      <td>...</td>\n      <td>...</td>\n      <td>...</td>\n    </tr>\n    <tr>\n      <th rowspan=\"5\" valign=\"top\">Tokyo</th>\n      <th>14595</th>\n      <td>2019-12-25</td>\n      <td>7.455974</td>\n      <td>winter</td>\n      <td>8.131442</td>\n    </tr>\n    <tr>\n      <th>14596</th>\n      <td>2019-12-26</td>\n      <td>3.877173</td>\n      <td>winter</td>\n      <td>7.230694</td>\n    </tr>\n    <tr>\n      <th>14597</th>\n      <td>2019-12-27</td>\n      <td>9.669779</td>\n      <td>winter</td>\n      <td>7.303646</td>\n    </tr>\n    <tr>\n      <th>14598</th>\n      <td>2019-12-28</td>\n      <td>-1.412218</td>\n      <td>winter</td>\n      <td>7.147971</td>\n    </tr>\n    <tr>\n      <th>14599</th>\n      <td>2019-12-29</td>\n      <td>10.259514</td>\n      <td>winter</td>\n      <td>6.878293</td>\n    </tr>\n  </tbody>\n</table>\n<p>54750 rows × 4 columns</p>\n</div>"
     },
     "execution_count": 9,
     "metadata": {},
     "output_type": "execute_result"
    }
   ],
   "source": [
    "df_ = df.groupby('city').apply(calculate_moving_avg, include_groups=False)\n",
    "\n",
    "df_"
   ],
   "metadata": {
    "collapsed": false,
    "ExecuteTime": {
     "end_time": "2025-01-05T17:54:54.157466900Z",
     "start_time": "2025-01-05T17:54:54.133766800Z"
    }
   },
   "id": "82be618dc13835f3",
   "execution_count": 9
  },
  {
   "cell_type": "markdown",
   "source": [
    "- расчет средней температуры и стандартного отклонения для каждого сезона"
   ],
   "metadata": {
    "collapsed": false
   },
   "id": "f2bfafe4370dcfbb"
  },
  {
   "cell_type": "code",
   "outputs": [],
   "source": [
    "seasonal_stats = df.groupby(['city', 'season'])['temperature'].agg(['mean', 'std'])\n",
    "seasonal_stats.rename(columns={'mean': 'season_mean', 'std': 'season_std'}, inplace=True)\n",
    "\n",
    "df = df.merge(seasonal_stats, on=['city', 'season'])"
   ],
   "metadata": {
    "collapsed": false
   },
   "id": "b1ff1599b1e32a18"
  }
 ],
 "metadata": {
  "kernelspec": {
   "display_name": "Python 3",
   "language": "python",
   "name": "python3"
  },
  "language_info": {
   "codemirror_mode": {
    "name": "ipython",
    "version": 2
   },
   "file_extension": ".py",
   "mimetype": "text/x-python",
   "name": "python",
   "nbconvert_exporter": "python",
   "pygments_lexer": "ipython2",
   "version": "2.7.6"
  }
 },
 "nbformat": 4,
 "nbformat_minor": 5
}
